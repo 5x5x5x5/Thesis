{
 "metadata": {
  "name": "",
  "signature": "sha256:8b65191f1930355dbdba2833c8fab3391e110d2863d15414f698ab7faa62c96f"
 },
 "nbformat": 3,
 "nbformat_minor": 0,
 "worksheets": [
  {
   "cells": [
    {
     "cell_type": "heading",
     "level": 1,
     "metadata": {},
     "source": [
      "Generic citation header"
     ]
    },
    {
     "cell_type": "markdown",
     "metadata": {},
     "source": [
      "Daniel Siegle\n",
      "\n",
      "ORCID:0000-0001-9434-3132\n",
      "\n",
      "North Carolina Central University\n",
      "\n",
      "Department of Pharmaceutical Sciences\n",
      "\n",
      "<img src=NCCU_seal.png>"
     ]
    },
    {
     "cell_type": "code",
     "collapsed": false,
     "input": [],
     "language": "python",
     "metadata": {},
     "outputs": []
    }
   ],
   "metadata": {}
  }
 ]
}